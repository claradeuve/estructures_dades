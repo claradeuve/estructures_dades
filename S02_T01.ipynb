{
 "cells": [
  {
   "cell_type": "markdown",
   "id": "65ad59f0",
   "metadata": {},
   "source": [
    "## Ejercicio 1"
   ]
  },
  {
   "cell_type": "code",
   "execution_count": 1,
   "id": "eb231f1a",
   "metadata": {},
   "outputs": [
    {
     "name": "stdout",
     "output_type": "stream",
     "text": [
      "[['enero', 'febrero', 'marzo'], ['abril', 'mayo', 'junio'], ['julio', 'agosto', 'septiembre'], ['octubre', 'noviembre', 'diciembre']]\n"
     ]
    }
   ],
   "source": [
    "meses = [\"enero\", \"febrero\", \"marzo\", \"abril\", \"mayo\", \"junio\", \"julio\", \"agosto\", \"septiembre\", \"octubre\", \"noviembre\", \"diciembre\"]\n",
    "trimestres = []\n",
    "trimestre = []\n",
    "num_mes = 0\n",
    "\n",
    "while num_mes < len(meses) and len(trimestre) <= 3:\n",
    "    trimestre.append(meses[num_mes])\n",
    "    num_mes += 1\n",
    "    if len(trimestre) % 3 == 0:\n",
    "        trimestres.append(trimestre)\n",
    "        trimestre = []\n",
    "\n",
    "print(trimestres)"
   ]
  },
  {
   "cell_type": "markdown",
   "id": "90f45862",
   "metadata": {},
   "source": [
    "## Ejercicio 2"
   ]
  },
  {
   "cell_type": "code",
   "execution_count": 24,
   "id": "47cac3f9",
   "metadata": {},
   "outputs": [
    {
     "name": "stdout",
     "output_type": "stream",
     "text": [
      "febrero\n",
      "['enero', 'febrero', 'marzo']\n",
      "septiembre\n",
      "octubre\n"
     ]
    }
   ],
   "source": [
    "def segundoMesT1(trimestres):\n",
    "    return trimestres[0][1]\n",
    "    \n",
    "def mesesT1(trimestres):\n",
    "        return trimestres[0]\n",
    "\n",
    "septiembre, octubre = trimestres[2][2], trimestres[3][0]\n",
    "\n",
    "print(segundoMesT1(trimestres))\n",
    "print(mesesT1(trimestres))\n",
    "print(septiembre)\n",
    "print(octubre)"
   ]
  },
  {
   "cell_type": "markdown",
   "id": "65f8d37a",
   "metadata": {},
   "source": [
    "## Ejercicio 3"
   ]
  },
  {
   "cell_type": "code",
   "execution_count": 62,
   "id": "9688e865",
   "metadata": {},
   "outputs": [],
   "source": [
    "nums = [1,7,4,9,3,1,3,3,2,6,5,3,8,9,3,23]"
   ]
  },
  {
   "cell_type": "markdown",
   "id": "141acc1a",
   "metadata": {},
   "source": [
    "**¿Cuántos números hay?**"
   ]
  },
  {
   "cell_type": "code",
   "execution_count": 30,
   "id": "a16f8fbd",
   "metadata": {},
   "outputs": [
    {
     "name": "stdout",
     "output_type": "stream",
     "text": [
      "En la lista hay 15 números\n"
     ]
    }
   ],
   "source": [
    "print(\"En la lista hay \" + str(len(nums)) + \" números\")"
   ]
  },
  {
   "cell_type": "markdown",
   "id": "38593faf",
   "metadata": {},
   "source": [
    "**¿Cuántas veces aparece el número 3?**"
   ]
  },
  {
   "cell_type": "code",
   "execution_count": 33,
   "id": "e61cc411",
   "metadata": {},
   "outputs": [
    {
     "name": "stdout",
     "output_type": "stream",
     "text": [
      "El número 3 aparece 5 veces\n"
     ]
    }
   ],
   "source": [
    "print(\"El número 3 aparece \" + str(nums.count(3)) + \" veces\")"
   ]
  },
  {
   "cell_type": "markdown",
   "id": "aac00215",
   "metadata": {},
   "source": [
    "**¿Cuántas veces aparecen el número 3 y 4?**"
   ]
  },
  {
   "cell_type": "code",
   "execution_count": 40,
   "id": "8031cc55",
   "metadata": {},
   "outputs": [
    {
     "name": "stdout",
     "output_type": "stream",
     "text": [
      "El número 3 aparece 5 veces y el número 4 aparece 1 vez\n"
     ]
    }
   ],
   "source": [
    "veces_3 = \"veces\" if nums.count(3) != 1 else \"vez\"\n",
    "veces_4 = \"veces\" if nums.count(4) != 1 else \"vez\"\n",
    "\n",
    "print(\"El número 3 aparece \" + str(nums.count(3)) + f\" {veces_3} y el número 4 aparece \" + str(nums.count(4)) + f\" {veces_4}\")"
   ]
  },
  {
   "cell_type": "markdown",
   "id": "a3ed1077",
   "metadata": {},
   "source": [
    "**¿Cuál es el número más grande?**"
   ]
  },
  {
   "cell_type": "code",
   "execution_count": 42,
   "id": "2cf2905c",
   "metadata": {},
   "outputs": [
    {
     "name": "stdout",
     "output_type": "stream",
     "text": [
      "El número más grande de la lista es el 23\n"
     ]
    }
   ],
   "source": [
    "print(\"El número más grande de la lista es el \" + str(max(nums)))"
   ]
  },
  {
   "cell_type": "markdown",
   "id": "a7871bee",
   "metadata": {},
   "source": [
    "**¿Cuáles son los tres números más pequeños?**"
   ]
  },
  {
   "cell_type": "code",
   "execution_count": 110,
   "id": "9ce97ba9",
   "metadata": {},
   "outputs": [
    {
     "name": "stdout",
     "output_type": "stream",
     "text": [
      "Los tres números más pequeños son: 1, 2, 3\n"
     ]
    }
   ],
   "source": [
    "def unique(lista):\n",
    "    set_elementos_unicos = set(lista)\n",
    "    lista_elementos_unicos = (list(set_elementos_unicos))\n",
    "    return lista_elementos_unicos\n",
    "\n",
    "nums_sin_repetir = unique(nums)\n",
    "nums_sin_repetir.sort()\n",
    "tres_mas_peques = nums_sin_repetir[:3]\n",
    "\n",
    "print(\"Los tres números más pequeños son: \" + str(tres_mas_peques[0]) + \", \" + str(tres_mas_peques[1]) + \", \" + str(tres_mas_peques[2]))"
   ]
  },
  {
   "cell_type": "markdown",
   "id": "e9fba8cb",
   "metadata": {},
   "source": [
    "**¿Cuál es el rango de esta lista?**"
   ]
  },
  {
   "cell_type": "code",
   "execution_count": 111,
   "id": "b86bb5b9",
   "metadata": {},
   "outputs": [
    {
     "name": "stdout",
     "output_type": "stream",
     "text": [
      "El rango de la lista es 22\n"
     ]
    }
   ],
   "source": [
    "rango = max(nums) - min(nums)\n",
    "print(\"El rango de la lista es \" + str(rango))"
   ]
  },
  {
   "cell_type": "markdown",
   "id": "087945d1",
   "metadata": {},
   "source": [
    "## Ejercicio 4"
   ]
  },
  {
   "cell_type": "code",
   "execution_count": 85,
   "id": "d514e060",
   "metadata": {},
   "outputs": [],
   "source": [
    "compra = { \"Pomes\" : {\"Qty\": 5, \"€\": 0.42}, \"Peres\" : {\"Qty\": 3, \"€\": 0.66} }"
   ]
  },
  {
   "cell_type": "markdown",
   "id": "debbaf2e",
   "metadata": {},
   "source": [
    "**Añade una fruta más**"
   ]
  },
  {
   "cell_type": "code",
   "execution_count": 112,
   "id": "f553c328",
   "metadata": {},
   "outputs": [
    {
     "name": "stdout",
     "output_type": "stream",
     "text": [
      "{'Pomes': {'Qty': 5, '€': 0.42}, 'Peres': {'Qty': 3, '€': 0.66}, 'Mango': {'Qty': 7, '€': 2.79}}\n"
     ]
    }
   ],
   "source": [
    "dict_mango = {}\n",
    "dict_mango[\"Qty\"] = 7\n",
    "dict_mango[\"€\"] = 2.79\n",
    "\n",
    "compra[\"Mango\"] = dict_mango\n",
    "\n",
    "print(compra)"
   ]
  },
  {
   "cell_type": "markdown",
   "id": "a938d938",
   "metadata": {},
   "source": [
    "**¿Cuánto han costado las peras en total?**"
   ]
  },
  {
   "cell_type": "code",
   "execution_count": 82,
   "id": "9b7fad72",
   "metadata": {},
   "outputs": [
    {
     "name": "stdout",
     "output_type": "stream",
     "text": [
      "El precio total de las peras ha sido de 1.98 €\n"
     ]
    }
   ],
   "source": [
    "precio_total_peras = compra['Peres']['Qty']*compra['Peres']['€']\n",
    "print(\"El precio total de las peras ha sido de \" + str(precio_total_peras) + \" €\")"
   ]
  },
  {
   "cell_type": "markdown",
   "id": "6535c2b6",
   "metadata": {},
   "source": [
    "**¿Cuántas frutas hemos comprado en total?**"
   ]
  },
  {
   "cell_type": "code",
   "execution_count": 84,
   "id": "c0f0d16d",
   "metadata": {},
   "outputs": [
    {
     "name": "stdout",
     "output_type": "stream",
     "text": [
      "Hemos comprado un total de 3 frutas\n"
     ]
    }
   ],
   "source": [
    "total_frutas = len(compra)\n",
    "print(\"Hemos comprado un total de \" + str(total_frutas) + \" frutas\")"
   ]
  },
  {
   "cell_type": "markdown",
   "id": "67f2395e",
   "metadata": {},
   "source": [
    "**¿Cuál es la fruta más cara?**"
   ]
  },
  {
   "cell_type": "code",
   "execution_count": 116,
   "id": "eaaeec3c",
   "metadata": {},
   "outputs": [
    {
     "name": "stdout",
     "output_type": "stream",
     "text": [
      "La fruta más cara es Mango, a 2.79 € la unidad\n"
     ]
    }
   ],
   "source": [
    "max_precio = 0\n",
    "fruta_mas_cara = \"\"\n",
    "\n",
    "for fruta in compra:\n",
    "    for precio in fruta:\n",
    "        precio = compra[fruta]['€']\n",
    "        if precio > max_precio:\n",
    "            max_precio = precio\n",
    "            fruta_mas_cara = fruta\n",
    "\n",
    "print(\"La fruta más cara es \" + fruta_mas_cara + \", a \" + str(max_precio) + \" € la unidad\")"
   ]
  },
  {
   "cell_type": "code",
   "execution_count": null,
   "id": "4e876519",
   "metadata": {},
   "outputs": [],
   "source": []
  }
 ],
 "metadata": {
  "kernelspec": {
   "display_name": "Python 3 (ipykernel)",
   "language": "python",
   "name": "python3"
  },
  "language_info": {
   "codemirror_mode": {
    "name": "ipython",
    "version": 3
   },
   "file_extension": ".py",
   "mimetype": "text/x-python",
   "name": "python",
   "nbconvert_exporter": "python",
   "pygments_lexer": "ipython3",
   "version": "3.9.7"
  }
 },
 "nbformat": 4,
 "nbformat_minor": 5
}
